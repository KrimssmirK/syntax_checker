{
 "cells": [
  {
   "cell_type": "markdown",
   "metadata": {},
   "source": [
    "# Parser Analysis"
   ]
  },
  {
   "cell_type": "markdown",
   "metadata": {},
   "source": [
    "Lexer"
   ]
  },
  {
   "cell_type": "code",
   "execution_count": 1,
   "metadata": {},
   "outputs": [],
   "source": [
    "from rply import LexerGenerator\n",
    "\n",
    "lg = LexerGenerator()\n",
    "\n",
    "lg.add('NUMBER', r'\\d+')\n",
    "lg.add('PLUS', r'\\+')\n",
    "lg.add('MINUS', r'-')\n",
    "lg.add('MUL', r'\\*')\n",
    "lg.add('DIV', r'/')\n",
    "lg.add('OPEN_PARENS', r'\\(')\n",
    "lg.add('CLOSE_PARENS', r'\\)')\n",
    "\n",
    "lg.ignore('\\s+')\n",
    "\n",
    "lexer = lg.build()"
   ]
  },
  {
   "cell_type": "markdown",
   "metadata": {},
   "source": [
    "Parser"
   ]
  },
  {
   "cell_type": "markdown",
   "metadata": {},
   "source": [
    "<img src=\"img/bnf.png\" />"
   ]
  },
  {
   "cell_type": "code",
   "execution_count": 2,
   "metadata": {},
   "outputs": [],
   "source": [
    "from rply import ParserGenerator\n",
    "\n",
    "pg = ParserGenerator(\n",
    "    # A list of all token names, accepted by the parser.\n",
    "    ['NUMBER', 'OPEN_PARENS', 'CLOSE_PARENS',\n",
    "     'PLUS', 'MINUS', 'MUL', 'DIV'\n",
    "    ],\n",
    "    # A list of precedence rules with ascending precedence, to\n",
    "    # disambiguate ambiguous production rules.\n",
    "    precedence=[\n",
    "        ('left', ['PLUS', 'MINUS']),\n",
    "        ('left', ['MUL', 'DIV'])\n",
    "    ]\n",
    ")\n",
    "\n",
    "@pg.production('expression : NUMBER')\n",
    "def expression_number(p):\n",
    "    # p is a list of the pieces matched by the right hand side of the\n",
    "    # rule\n",
    "    # return Number(int(p[0].getstr()))\n",
    "    pass\n",
    "\n",
    "@pg.production('expression : OPEN_PARENS expression CLOSE_PARENS')\n",
    "def expression_parens(p):\n",
    "    # return p[1]\n",
    "    pass\n",
    "\n",
    "@pg.production('expression : expression PLUS expression')\n",
    "@pg.production('expression : expression MINUS expression')\n",
    "@pg.production('expression : expression MUL expression')\n",
    "@pg.production('expression : expression DIV expression')\n",
    "def expression_binop(p):\n",
    "    pass\n",
    "\n",
    "@pg.error\n",
    "def error_handler(token):\n",
    "    raise ValueError(\"Ran into a %s where it wasn't expected\" % token.gettokentype())\n",
    "\n",
    "parser = pg.build()"
   ]
  },
  {
   "cell_type": "code",
   "execution_count": 4,
   "metadata": {},
   "outputs": [],
   "source": [
    "parser.parse(lexer.lex('1+1'))"
   ]
  },
  {
   "cell_type": "markdown",
   "metadata": {},
   "source": [
    "Error Handling"
   ]
  },
  {
   "cell_type": "code",
   "execution_count": null,
   "metadata": {},
   "outputs": [],
   "source": []
  }
 ],
 "metadata": {
  "kernelspec": {
   "display_name": ".venv",
   "language": "python",
   "name": "python3"
  },
  "language_info": {
   "codemirror_mode": {
    "name": "ipython",
    "version": 3
   },
   "file_extension": ".py",
   "mimetype": "text/x-python",
   "name": "python",
   "nbconvert_exporter": "python",
   "pygments_lexer": "ipython3",
   "version": "3.11.5"
  }
 },
 "nbformat": 4,
 "nbformat_minor": 2
}
