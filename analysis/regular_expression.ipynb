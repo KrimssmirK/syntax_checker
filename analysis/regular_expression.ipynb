{
 "cells": [
  {
   "cell_type": "code",
   "execution_count": 7,
   "metadata": {},
   "outputs": [],
   "source": [
    "import re"
   ]
  },
  {
   "cell_type": "code",
   "execution_count": 13,
   "metadata": {},
   "outputs": [
    {
     "name": "stdout",
     "output_type": "stream",
     "text": [
      "use hantverk.hantverkui.Window;\n",
      "use hantverk.hantverkui.lsiteners.KeyListener;\n",
      "use hantverk.hantverkui.lsiteners.Event;\n",
      "\n",
      "template Main ext Window modded KeyListener {\n",
      "    fn main() {\n",
      "        my->title = \"Game Title\";\n",
      "        my->dimension = Window->Dimension->MAXIMIZED;\n",
      "        my->state = Window->State->MAXIMIZED;\n",
      "        \n",
      "        my->setUI();\n",
      "        \n",
      "        my->show();\n",
      "    }\n",
      "    \n",
      "    fn setUI() {\n",
      "        my->setLayout();\n",
      "    }\n",
      "    \n",
      "    ::Overwrite\n",
      "    fn keyUp(Event e) {}\n",
      "    \n",
      "    ::Overwrite\n",
      "    fn keyDown(Event e) {}\n",
      "    \n",
      "    ::Overwrite\n",
      "    fn keyPressed(Event e) {}\n",
      "}\n"
     ]
    }
   ],
   "source": [
    "code_snippet_file = open(\"code_snippet_sample/sample1.hv\")\n",
    "code_snippet = code_snippet_file.read()\n",
    "print(code_snippet)\n"
   ]
  }
 ],
 "metadata": {
  "kernelspec": {
   "display_name": ".venv",
   "language": "python",
   "name": "python3"
  },
  "language_info": {
   "codemirror_mode": {
    "name": "ipython",
    "version": 3
   },
   "file_extension": ".py",
   "mimetype": "text/x-python",
   "name": "python",
   "nbconvert_exporter": "python",
   "pygments_lexer": "ipython3",
   "version": "3.11.5"
  }
 },
 "nbformat": 4,
 "nbformat_minor": 2
}
